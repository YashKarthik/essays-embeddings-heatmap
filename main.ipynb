{
  "nbformat": 4,
  "nbformat_minor": 0,
  "metadata": {
    "colab": {
      "provenance": []
    },
    "kernelspec": {
      "name": "python3",
      "display_name": "Python 3"
    },
    "language_info": {
      "name": "python"
    }
  },
  "cells": [
    {
      "cell_type": "code",
      "execution_count": null,
      "metadata": {
        "id": "BDfJmxF2qRiY"
      },
      "outputs": [],
      "source": [
        "!pip install -U sentence-transformers"
      ]
    },
    {
      "cell_type": "code",
      "source": [
        "sentences = []\n",
        "with open(\"./pg.md\", \"r\") as f:\n",
        "    for line in f.readlines():\n",
        "        if len(line) < 10: continue\n",
        "        sentences.append(line)"
      ],
      "metadata": {
        "id": "bKzpFzpPqc2s"
      },
      "execution_count": null,
      "outputs": []
    },
    {
      "cell_type": "code",
      "source": [
        "from sentence_transformers import SentenceTransformer\n",
        "\n",
        "model = SentenceTransformer(\"all-MiniLM-L6-v2\")\n",
        "embeddings = model.encode(sentences)\n",
        "\n",
        "sentence_embeddings_map = {}\n",
        "for sentence, embedding in zip(sentences, embeddings):\n",
        "    sentence_embeddings_map[sentence] = embedding"
      ],
      "metadata": {
        "id": "K_7dHl-erZ2z"
      },
      "execution_count": null,
      "outputs": []
    },
    {
      "cell_type": "code",
      "source": [
        "feels = [\n",
        "    \"happy, joyous, fun\",\n",
        "    \"angry, enraged, furious, passionate, emotion\",\n",
        "    \"sad, melancholy, pessimistic, sorrow\",\n",
        "]\n",
        "\n",
        "colors = [\n",
        "    \"#fcd93f\", # yellow: happy\n",
        "    \"#f92713\", # red: angry\n",
        "    \"#1a1c2b\", # gray-blue: sad\n",
        "]\n",
        "\n",
        "feelings_embeddings = model.encode(feels)\n",
        "\n",
        "feelings_embeddings_map = {}\n",
        "for feeling, embedding in zip(feels, feelings_embeddings):\n",
        "    feelings_embeddings_map[feeling] = embedding"
      ],
      "metadata": {
        "id": "RJvBxvmGtKdR"
      },
      "execution_count": null,
      "outputs": []
    },
    {
      "cell_type": "code",
      "source": [
        "from sentence_transformers import util\n",
        "\n",
        "cos_sim = util.cos_sim(embeddings, feelings_embeddings)\n",
        "cos_sim"
      ],
      "metadata": {
        "id": "BrHjhWt1vOpz"
      },
      "execution_count": null,
      "outputs": []
    },
    {
      "cell_type": "code",
      "source": [
        "sentence_feels_map = {}\n",
        "\n",
        "for i in range(len(cos_sim)):\n",
        "    for j in range(len(cos_sim[i])):\n",
        "        pass"
      ],
      "metadata": {
        "id": "lg4jISdby6_f"
      },
      "execution_count": null,
      "outputs": []
    },
    {
      "cell_type": "code",
      "source": [],
      "metadata": {
        "id": "6-Qi8Tz-0aqf"
      },
      "execution_count": null,
      "outputs": []
    }
  ]
}